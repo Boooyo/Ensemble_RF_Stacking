{
 "cells": [
  {
   "cell_type": "code",
   "execution_count": 1,
   "id": "899882bc-b554-475b-b551-d9d4364b1530",
   "metadata": {
    "scrolled": true
   },
   "outputs": [
    {
     "name": "stdout",
     "output_type": "stream",
     "text": [
      "Requirement already satisfied: numpy in /opt/anaconda3/lib/python3.11/site-packages (1.26.4)\n",
      "Requirement already satisfied: pandas in /opt/anaconda3/lib/python3.11/site-packages (2.1.4)\n",
      "Requirement already satisfied: scikit-learn in /opt/anaconda3/lib/python3.11/site-packages (1.2.2)\n",
      "Requirement already satisfied: python-dateutil>=2.8.2 in /opt/anaconda3/lib/python3.11/site-packages (from pandas) (2.8.2)\n",
      "Requirement already satisfied: pytz>=2020.1 in /opt/anaconda3/lib/python3.11/site-packages (from pandas) (2023.3.post1)\n",
      "Requirement already satisfied: tzdata>=2022.1 in /opt/anaconda3/lib/python3.11/site-packages (from pandas) (2023.3)\n",
      "Requirement already satisfied: scipy>=1.3.2 in /opt/anaconda3/lib/python3.11/site-packages (from scikit-learn) (1.11.4)\n",
      "Requirement already satisfied: joblib>=1.1.1 in /opt/anaconda3/lib/python3.11/site-packages (from scikit-learn) (1.2.0)\n",
      "Requirement already satisfied: threadpoolctl>=2.0.0 in /opt/anaconda3/lib/python3.11/site-packages (from scikit-learn) (2.2.0)\n",
      "Requirement already satisfied: six>=1.5 in /opt/anaconda3/lib/python3.11/site-packages (from python-dateutil>=2.8.2->pandas) (1.16.0)\n"
     ]
    }
   ],
   "source": [
    "!pip install numpy pandas scikit-learn"
   ]
  },
  {
   "cell_type": "code",
   "execution_count": 7,
   "id": "cf0f102f-d15a-49ba-88f5-4673f1df1c25",
   "metadata": {},
   "outputs": [],
   "source": [
    "import numpy as np\n",
    "import pandas as pd\n",
    "from sklearn.model_selection import train_test_split, KFold, GridSearchCV\n",
    "from sklearn.preprocessing import StandardScaler\n",
    "from sklearn.ensemble import RandomForestRegressor, GradientBoostingRegressor\n",
    "from sklearn.linear_model import LinearRegression, Ridge\n",
    "from sklearn.metrics import mean_squared_error\n",
    "from sklearn.pipeline import make_pipeline\n",
    "from math import sqrt"
   ]
  },
  {
   "cell_type": "code",
   "execution_count": 9,
   "id": "83769818-cbc6-41ac-bec4-abc5f9bdd58a",
   "metadata": {},
   "outputs": [],
   "source": [
    "# 데이터 불러오기\n",
    "train_data = pd.read_csv('./Data/train.csv')\n",
    "test_data = pd.read_csv('./Data/test.csv')\n",
    "original_test_data = test_data.copy()"
   ]
  },
  {
   "cell_type": "code",
   "execution_count": null,
   "id": "5e3b27be-c175-44c2-826c-48a191ff9697",
   "metadata": {},
   "outputs": [],
   "source": [
    "# 'Income'을 예측 변수로, 나머지를 특성으로 사용\n",
    "X = train_data.drop(['ID', 'Income', ''], axis=1)\n",
    "y = train_data['Income']\n",
    "\n",
    "# 범주형 변수를 더미 변수로 변환\n",
    "X = pd.get_dummies(X)\n",
    "test_data = pd.get_dummies(test_data.drop(['ID'], axis=1))\n",
    "test_data = test_data.reindex(columns=X.columns, fill_value=0)\n",
    "\n",
    "# 기본 모델 정의\n",
    "base_models = [\n",
    "    ('rf_model', RandomForestRegressor(random_state=42)),\n",
    "    ('gb_model', GradientBoostingRegressor(random_state=42))\n",
    "]\n",
    "\n",
    "# 스태킹을 위한 훈련 데이터 준비\n",
    "X_train, X_val, y_train, y_val = train_test_split(X, y, test_size=0.2, random_state=42)\n",
    "\n",
    "# 기본 모델의 예측 저장을 위한 배열 초기화\n",
    "train_pred = np.zeros((X_train.shape[0], len(base_models)))\n",
    "val_pred = np.zeros((X_val.shape[0], len(base_models)))\n",
    "test_pred = np.zeros((test_data.shape[0], len(base_models)))\n",
    "\n",
    "# 기본 모델 훈련 및 예측\n",
    "for i, (name, model) in enumerate(base_models):\n",
    "    print(f'Training {name}...')\n",
    "    model.fit(X_train, y_train)\n",
    "    train_pred[:, i] = model.predict(X_train)\n",
    "    val_pred[:, i] = model.predict(X_val)\n",
    "    test_pred[:, i] = model.predict(test_data)\n",
    "\n",
    "# 메타 모델 훈련\n",
    "meta_model = LinearRegression()\n",
    "meta_model.fit(val_pred, y_val)\n",
    "\n",
    "# 최종 예측\n",
    "final_predictions = meta_model.predict(test_pred)\n",
    "\n",
    "# 예측 결과를 제출 형식에 맞게 저장\n",
    "submission = pd.DataFrame({'ID': original_test_data['ID'], 'Income': final_predictions})\n",
    "submission.to_csv('stacked_submission.csv', index=False)\n",
    "\n",
    "print('Stacked model predictions saved to stacked_submission.csv')"
   ]
  },
  {
   "cell_type": "code",
   "execution_count": 10,
   "id": "967095d7-650f-4c1d-b987-13f6aa953587",
   "metadata": {},
   "outputs": [
    {
     "name": "stdout",
     "output_type": "stream",
     "text": [
      "Stacked model with improvements predictions saved to stacked_submission_with_improvements.csv\n"
     ]
    }
   ],
   "source": [
    "# 특성과 타겟 분리\n",
    "X = pd.get_dummies(train_data.drop(['ID', 'Income', 'Race'], axis=1))\n",
    "y = train_data['Income']\n",
    "test_data = pd.get_dummies(test_data.drop(['ID'], axis=1))\n",
    "test_data = test_data.reindex(columns=X.columns, fill_value=0)\n",
    "\n",
    "# 데이터 스케일링\n",
    "scaler = StandardScaler()\n",
    "X_scaled = scaler.fit_transform(X)\n",
    "test_data_scaled = scaler.transform(test_data)\n",
    "\n",
    "# 하이퍼파라미터 그리드\n",
    "param_grid = {\n",
    "    'n_estimators': [100, 200],\n",
    "    'max_depth': [None, 3, 10],\n",
    "    'min_samples_split': [2, 5]\n",
    "}\n",
    "\n",
    "# 교차 검증을 위한 KFold 설정\n",
    "kf = KFold(n_splits=5, shuffle=True, random_state=42)\n",
    "\n",
    "# 기본 모델 정의 및 하이퍼파라미터 검색\n",
    "rf = GridSearchCV(RandomForestRegressor(random_state=42), param_grid, cv=kf)\n",
    "gb = GridSearchCV(GradientBoostingRegressor(random_state=42), param_grid, cv=kf)\n",
    "\n",
    "base_models = [\n",
    "    ('rf_model', rf),\n",
    "    ('gb_model', gb)\n",
    "]\n",
    "\n",
    "# 스태킹을 위한 메타 모델 정의\n",
    "meta_model = Ridge()\n",
    "\n",
    "# 스태킹 모델 훈련 및 예측 함수\n",
    "def stack_models_predict(X, y, test_data, base_models, meta_model):\n",
    "    train_pred = np.zeros((X.shape[0], len(base_models)))\n",
    "    test_pred = np.zeros((test_data.shape[0], len(base_models)))\n",
    "    \n",
    "    for i, (_, model) in enumerate(base_models):\n",
    "        model.fit(X, y)\n",
    "        train_pred[:, i] = model.predict(X)\n",
    "        test_pred[:, i] = model.predict(test_data)\n",
    "        \n",
    "    meta_model.fit(train_pred, y)\n",
    "    return meta_model.predict(test_pred)\n",
    "\n",
    "# 최종 예측\n",
    "final_predictions = stack_models_predict(X_scaled, y, test_data_scaled, base_models, meta_model)\n",
    "\n",
    "# 예측 결과를 제출 형식에 맞게 저장\n",
    "submission = pd.DataFrame({'ID': original_test_data['ID'], 'Income': final_predictions})\n",
    "submission.to_csv('stacked_submission_with_improvements.csv', index=False)\n",
    "\n",
    "print('Stacked model with improvements predictions saved to stacked_submission_with_improvements.csv')"
   ]
  }
 ],
 "metadata": {
  "kernelspec": {
   "display_name": "Python 3 (ipykernel)",
   "language": "python",
   "name": "python3"
  },
  "language_info": {
   "codemirror_mode": {
    "name": "ipython",
    "version": 3
   },
   "file_extension": ".py",
   "mimetype": "text/x-python",
   "name": "python",
   "nbconvert_exporter": "python",
   "pygments_lexer": "ipython3",
   "version": "3.11.7"
  }
 },
 "nbformat": 4,
 "nbformat_minor": 5
}
