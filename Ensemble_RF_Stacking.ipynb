{
 "cells": [
  {
   "cell_type": "code",
   "execution_count": null,
   "id": "899882bc-b554-475b-b551-d9d4364b1530",
   "metadata": {
    "scrolled": true
   },
   "outputs": [
    {
     "name": "stdout",
     "output_type": "stream",
     "text": [
      "Requirement already satisfied: numpy in /opt/anaconda3/lib/python3.11/site-packages (1.26.4)\n",
      "Requirement already satisfied: pandas in /opt/anaconda3/lib/python3.11/site-packages (2.1.4)\n",
      "Requirement already satisfied: scikit-learn in /opt/anaconda3/lib/python3.11/site-packages (1.2.2)\n",
      "Requirement already satisfied: python-dateutil>=2.8.2 in /opt/anaconda3/lib/python3.11/site-packages (from pandas) (2.8.2)\n",
      "Requirement already satisfied: pytz>=2020.1 in /opt/anaconda3/lib/python3.11/site-packages (from pandas) (2023.3.post1)\n",
      "Requirement already satisfied: tzdata>=2022.1 in /opt/anaconda3/lib/python3.11/site-packages (from pandas) (2023.3)\n",
      "Requirement already satisfied: scipy>=1.3.2 in /opt/anaconda3/lib/python3.11/site-packages (from scikit-learn) (1.11.4)\n",
      "Requirement already satisfied: joblib>=1.1.1 in /opt/anaconda3/lib/python3.11/site-packages (from scikit-learn) (1.2.0)\n",
      "Requirement already satisfied: threadpoolctl>=2.0.0 in /opt/anaconda3/lib/python3.11/site-packages (from scikit-learn) (2.2.0)\n",
      "Requirement already satisfied: six>=1.5 in /opt/anaconda3/lib/python3.11/site-packages (from python-dateutil>=2.8.2->pandas) (1.16.0)\n"
     ]
    }
   ],
   "source": [
    "!pip install numpy pandas scikit-learn"
   ]
  },
  {
   "cell_type": "code",
   "execution_count": 7,
   "id": "cf0f102f-d15a-49ba-88f5-4673f1df1c25",
   "metadata": {},
   "outputs": [],
   "source": [
    "import numpy as np\n",
    "import pandas as pd\n",
    "from sklearn.model_selection import train_test_split, KFold, GridSearchCV\n",
    "from sklearn.preprocessing import StandardScaler\n",
    "from sklearn.ensemble import RandomForestRegressor, GradientBoostingRegressor\n",
    "from sklearn.linear_model import LinearRegression, Ridge\n",
    "from sklearn.metrics import mean_squared_error\n",
    "from sklearn.pipeline import make_pipeline\n",
    "from math import sqrt"
   ]
  },
  {
   "cell_type": "code",
   "execution_count": 9,
   "id": "83769818-cbc6-41ac-bec4-abc5f9bdd58a",
   "metadata": {},
   "outputs": [],
   "source": [
    "# 데이터 불러오기\n",
    "train_data = pd.read_csv('./Data/train.csv')\n",
    "test_data = pd.read_csv('./Data/test.csv')\n",
    "original_test_data = test_data.copy()"
   ]
  },
  {
   "cell_type": "code",
   "execution_count": null,
   "id": "0e1a7c93",
   "metadata": {},
   "outputs": [],
   "source": [
    "print(train_data)"
   ]
  },
  {
   "cell_type": "code",
   "execution_count": null,
   "id": "5e3b27be-c175-44c2-826c-48a191ff9697",
   "metadata": {},
   "outputs": [],
   "source": [
    "# 'Income'을 예측 변수로, 나머지를 특성으로 사용\n",
    "X = train_data.drop(['ID', 'Income', 'Birth_Country', 'Birth_Country (Father)', 'Birth_Country (Mother)', 'Citizenship', 'Race', 'Losses', 'Citizenship', 'Household_Summary'], axis=1)\n",
    "y = train_data['Income']\n",
    "\n",
    "# 범주형 변수를 더미 변수로 변환\n",
    "X = pd.get_dummies(X)\n",
    "test_data = pd.get_dummies(test_data.drop(['ID'], axis=1))\n",
    "test_data = test_data.reindex(columns=X.columns, fill_value=0)"
   ]
  },
  {
   "cell_type": "code",
   "execution_count": 10,
   "id": "967095d7-650f-4c1d-b987-13f6aa953587",
   "metadata": {},
   "outputs": [
    {
     "name": "stdout",
     "output_type": "stream",
     "text": [
      "Stacked model with improvements predictions saved to stacked_submission_with_improvements.csv\n"
     ]
    }
   ],
   "source": [
    "print(test_data)"
   ]
  },
  {
   "cell_type": "code",
   "execution_count": null,
   "id": "094897b4",
   "metadata": {},
   "outputs": [],
   "source": [
    "# 기본 모델 정의\n",
    "base_models = [\n",
    "    ('rf_model', RandomForestRegressor(random_state=42)),\n",
    "    ('gb_model', GradientBoostingRegressor(random_state=42))\n",
    "]"
   ]
  },
  {
   "cell_type": "code",
   "execution_count": null,
   "id": "265062ce",
   "metadata": {},
   "outputs": [],
   "source": [
    "# 스태킹을 위한 훈련 데이터 준비\n",
    "X_train, X_val, y_train, y_val = train_test_split(X, y, test_size=0.2, random_state=42)\n",
    "\n",
    "# 기본 모델의 예측 저장을 위한 배열 초기화\n",
    "train_pred = np.zeros((X_train.shape[0], len(base_models)))\n",
    "val_pred = np.zeros((X_val.shape[0], len(base_models)))\n",
    "test_pred = np.zeros((test_data.shape[0], len(base_models)))"
   ]
  },
  {
   "cell_type": "code",
   "execution_count": null,
   "id": "c26faf22",
   "metadata": {},
   "outputs": [],
   "source": [
    "# 기본 모델 훈련 및 예측\n",
    "for i, (name, model) in enumerate(base_models):\n",
    "    print(f'Training {name}...')\n",
    "    model.fit(X_train, y_train)\n",
    "    train_pred[:, i] = model.predict(X_train)\n",
    "    val_pred[:, i] = model.predict(X_val)\n",
    "    test_pred[:, i] = model.predict(test_data)\n",
    "\n",
    "# 메타 모델 훈련\n",
    "meta_model = LinearRegression()\n",
    "meta_model.fit(val_pred, y_val)\n",
    "\n",
    "# 최종 예측\n",
    "final_predictions = meta_model.predict(test_pred)"
   ]
  },
  {
   "cell_type": "code",
   "execution_count": null,
   "id": "558ea79a",
   "metadata": {},
   "outputs": [],
   "source": [
    "# 예측 결과를 제출 형식에 맞게 저장\n",
    "submission = pd.DataFrame({'ID': original_test_data['ID'], 'Income': final_predictions})\n",
    "submission.to_csv('stacked_submission.csv', index=False)\n",
    "\n",
    "print('Drop_submission.csv')"
   ]
  }
 ],
 "metadata": {
  "kernelspec": {
   "display_name": "Python 3 (ipykernel)",
   "language": "python",
   "name": "python3"
  },
  "language_info": {
   "codemirror_mode": {
    "name": "ipython",
    "version": 3
   },
   "file_extension": ".py",
   "mimetype": "text/x-python",
   "name": "python",
   "nbconvert_exporter": "python",
   "pygments_lexer": "ipython3",
   "version": "3.11.7"
  }
 },
 "nbformat": 4,
 "nbformat_minor": 5
}
